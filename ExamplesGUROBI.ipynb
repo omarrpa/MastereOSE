{
 "cells": [
  {
   "cell_type": "markdown",
   "id": "5d0133ad-7d9b-40d8-9e7e-68ded7c3acf0",
   "metadata": {},
   "source": [
    "# Cake optimization"
   ]
  },
  {
   "cell_type": "markdown",
   "id": "c8a256f1-73ec-4081-8adf-9886fb9b0a93",
   "metadata": {},
   "source": [
    "\\begin{align*}\n",
    "\\text{Variables:} \\quad & x, y \\\\\n",
    "\\text{Objective Function:} \\quad & \\text{Maximize } x + y \\\\\n",
    "\\text{Subject to:} \\quad & \\\\\n",
    "& 200x + 100y \\leq 5000 \\\\\n",
    "& 25x + 50y \\leq 1000 \\\\\n",
    "& x, y \\text{ are integers} \\\\\n",
    "& x, y \\geq 0\n",
    "\\end{align*}\n"
   ]
  },
  {
   "cell_type": "code",
   "execution_count": 1,
   "id": "6d8421bd-b456-477e-a340-94b6a748e569",
   "metadata": {},
   "outputs": [],
   "source": [
    "import gurobipy as gp"
   ]
  },
  {
   "cell_type": "code",
   "execution_count": 5,
   "id": "4855836e-5a33-4c7e-8991-1ab5bf1093c8",
   "metadata": {},
   "outputs": [
    {
     "name": "stdout",
     "output_type": "stream",
     "text": [
      "Gurobi Optimizer version 10.0.2 build v10.0.2rc0 (win64)\n",
      "\n",
      "CPU model: 12th Gen Intel(R) Core(TM) i7-12700, instruction set [SSE2|AVX|AVX2]\n",
      "Thread count: 12 physical cores, 20 logical processors, using up to 20 threads\n",
      "\n",
      "Optimize a model with 2 rows, 2 columns and 4 nonzeros\n",
      "Model fingerprint: 0x3e95792d\n",
      "Variable types: 0 continuous, 2 integer (0 binary)\n",
      "Coefficient statistics:\n",
      "  Matrix range     [3e+01, 2e+02]\n",
      "  Objective range  [1e+00, 1e+00]\n",
      "  Bounds range     [0e+00, 0e+00]\n",
      "  RHS range        [1e+03, 5e+03]\n",
      "Found heuristic solution: objective 25.0000000\n",
      "Presolve time: 0.00s\n",
      "Presolved: 2 rows, 2 columns, 4 nonzeros\n",
      "Variable types: 0 continuous, 2 integer (0 binary)\n",
      "\n",
      "Root relaxation: objective 3.000000e+01, 2 iterations, 0.00 seconds (0.00 work units)\n",
      "\n",
      "    Nodes    |    Current Node    |     Objective Bounds      |     Work\n",
      " Expl Unexpl |  Obj  Depth IntInf | Incumbent    BestBd   Gap | It/Node Time\n",
      "\n",
      "*    0     0               0      30.0000000   30.00000  0.00%     -    0s\n",
      "\n",
      "Explored 1 nodes (2 simplex iterations) in 0.02 seconds (0.00 work units)\n",
      "Thread count was 20 (of 20 available processors)\n",
      "\n",
      "Solution count 2: 30 25 \n",
      "\n",
      "Optimal solution found (tolerance 1.00e-04)\n",
      "Best objective 3.000000000000e+01, best bound 3.000000000000e+01, gap 0.0000%\n",
      "Optimal objective value: 30.0\n",
      "Solution values: x=20.0, y=10.0\n"
     ]
    }
   ],
   "source": [
    "# Create a new model\n",
    "m = gp.Model(\"CAKES\")\n",
    "\n",
    "# Create variables\n",
    "x = m.addVar(vtype=gp.GRB.INTEGER, name=\"x\")\n",
    "y = m.addVar(vtype=gp.GRB.INTEGER, name=\"y\")\n",
    "\n",
    "# Set objective function\n",
    "m.setObjective(x + y, gp.GRB.MAXIMIZE)\n",
    "\n",
    "# Add constraints\n",
    "m.addConstr(200*x + 100*y <= 5000)\n",
    "m.addConstr(25*x + 50*y <= 1000)\n",
    "\n",
    "# flour = 200*x + 100*y\n",
    "#or m.addConstr(flour, GRB.LESS_EQUAL, 5000)\n",
    "\n",
    "# Solve it!\n",
    "m.optimize()\n",
    "\n",
    "print(f\"Optimal objective value: {m.objVal}\")\n",
    "print(f\"Solution values: x={x.X}, y={y.X}\")"
   ]
  },
  {
   "cell_type": "markdown",
   "id": "a0c232cb-8d3e-4027-8284-1591429141bc",
   "metadata": {},
   "source": [
    "# Nuclear waste management"
   ]
  },
  {
   "cell_type": "markdown",
   "id": "8afee29e-a261-4e52-ae34-fb20be15bb11",
   "metadata": {},
   "source": [
    "\\begin{align*}\n",
    "\\text{Variables:} \\quad & Xa, Xb \\\\\n",
    "\\text{Objective Function:} \\quad & \\text{Maximize } 4Xa + 8Xb \\\\\n",
    "\\text{Subject to:} \\quad & \\\\\n",
    "& Xa + 3Xb \\leq 450 \\\\\n",
    "& 2Xa + Xb \\leq 350 \\\\\n",
    "& Xa + Xb \\leq 200 \\\\\n",
    "& Xa, Xb \\geq 0\n",
    "\\end{align*}"
   ]
  },
  {
   "cell_type": "code",
   "execution_count": 3,
   "id": "59d93560-e9fd-4850-b4c1-269db670b1a9",
   "metadata": {},
   "outputs": [
    {
     "name": "stdout",
     "output_type": "stream",
     "text": [
      "Set parameter TokenServer to value \"dev.cma.mines-paristech.fr\"\n"
     ]
    }
   ],
   "source": [
    "m = gp.Model(\"Nuclear Waste\")"
   ]
  },
  {
   "cell_type": "code",
   "execution_count": 4,
   "id": "5ceb9382-8791-49a3-9ef0-ce6db43cc4a1",
   "metadata": {},
   "outputs": [],
   "source": [
    "Xa, Xb = m.addVar(vtype=gp.GRB.CONTINUOUS,name=\"Xa\"), m.addVar(vtype=gp.GRB.CONTINUOUS,name=\"Xb\")"
   ]
  },
  {
   "cell_type": "code",
   "execution_count": 5,
   "id": "d3231c8a-f8f6-491f-b7b3-b9e5f363bf0f",
   "metadata": {},
   "outputs": [],
   "source": [
    "p1 = Xa + 3*Xb\n",
    "p2 = 2*Xa + Xb\n",
    "p3 = Xa + Xb"
   ]
  },
  {
   "cell_type": "code",
   "execution_count": 6,
   "id": "684cc1d2-5f39-4ce5-b7fc-9b943154c50d",
   "metadata": {},
   "outputs": [
    {
     "data": {
      "text/plain": [
       "<gurobi.Constr *Awaiting Model Update*>"
      ]
     },
     "execution_count": 6,
     "metadata": {},
     "output_type": "execute_result"
    }
   ],
   "source": [
    "m.addConstr(p1,gp.GRB.LESS_EQUAL,450)\n",
    "m.addConstr(p2,gp.GRB.LESS_EQUAL,350)\n",
    "m.addConstr(p3,gp.GRB.LESS_EQUAL,200)"
   ]
  },
  {
   "cell_type": "code",
   "execution_count": 7,
   "id": "35f5c919-60f0-4e6a-9947-a613ce739df9",
   "metadata": {},
   "outputs": [
    {
     "name": "stdout",
     "output_type": "stream",
     "text": [
      "Gurobi Optimizer version 10.0.2 build v10.0.2rc0 (win64)\n",
      "\n",
      "CPU model: 12th Gen Intel(R) Core(TM) i7-12700, instruction set [SSE2|AVX|AVX2]\n",
      "Thread count: 12 physical cores, 20 logical processors, using up to 20 threads\n",
      "\n",
      "Optimize a model with 3 rows, 2 columns and 6 nonzeros\n",
      "Model fingerprint: 0x13e1ad8e\n",
      "Coefficient statistics:\n",
      "  Matrix range     [1e+00, 3e+00]\n",
      "  Objective range  [4e+00, 8e+00]\n",
      "  Bounds range     [0e+00, 0e+00]\n",
      "  RHS range        [2e+02, 5e+02]\n",
      "Presolve time: 0.00s\n",
      "Presolved: 3 rows, 2 columns, 6 nonzeros\n",
      "\n",
      "Iteration    Objective       Primal Inf.    Dual Inf.      Time\n",
      "       0    1.2000000e+31   4.500000e+30   1.200000e+01      0s\n",
      "       2    1.3000000e+03   0.000000e+00   0.000000e+00      0s\n",
      "\n",
      "Solved in 2 iterations and 0.02 seconds (0.00 work units)\n",
      "Optimal objective  1.300000000e+03\n"
     ]
    }
   ],
   "source": [
    "m.setObjective(4*Xa + 8*Xb, gp.GRB.MAXIMIZE)\n",
    "m.optimize()"
   ]
  },
  {
   "cell_type": "code",
   "execution_count": 8,
   "id": "4243f1fe-0092-43a5-8a13-f36d9a80e778",
   "metadata": {},
   "outputs": [
    {
     "name": "stdout",
     "output_type": "stream",
     "text": [
      "Profit 1300.0\n",
      "Variables 75.0 125.0\n"
     ]
    }
   ],
   "source": [
    "print(\"Profit\",m.objVal)\n",
    "print(\"Variables\",Xa.X,Xb.X)"
   ]
  },
  {
   "cell_type": "markdown",
   "id": "2b0c40c8-6670-4740-bc9d-eaaa18f9e65f",
   "metadata": {},
   "source": [
    "# Petroleum"
   ]
  },
  {
   "cell_type": "markdown",
   "id": "de50321d-425e-4035-b5d4-ca85af2e77ae",
   "metadata": {},
   "source": [
    "\\begin{align*}\n",
    "\\text{Minimize:} \\quad & 15x + 20y \\\\\n",
    "\\text{Subject to:} \\quad & \\\\\n",
    "& 0.3x + 0.4y \\geq 2000 \\\\\n",
    "& 0.4x + 0.2y \\geq 1500 \\\\\n",
    "& 0.2x + 0.3y \\geq 500 \\\\\n",
    "& x \\leq 9000 \\\\\n",
    "& y \\leq 6000 \\\\\n",
    "& x, y \\geq 0\n",
    "\\end{align*}"
   ]
  },
  {
   "cell_type": "code",
   "execution_count": 25,
   "id": "2af32fd2-9c4b-4247-afdb-03908e615390",
   "metadata": {},
   "outputs": [
    {
     "name": "stdout",
     "output_type": "stream",
     "text": [
      "Gurobi Optimizer version 10.0.2 build v10.0.2rc0 (win64)\n",
      "\n",
      "CPU model: 12th Gen Intel(R) Core(TM) i7-12700, instruction set [SSE2|AVX|AVX2]\n",
      "Thread count: 12 physical cores, 20 logical processors, using up to 20 threads\n",
      "\n",
      "Optimize a model with 5 rows, 2 columns and 8 nonzeros\n",
      "Model fingerprint: 0x6636cf4f\n",
      "Coefficient statistics:\n",
      "  Matrix range     [2e-01, 1e+00]\n",
      "  Objective range  [2e+01, 2e+01]\n",
      "  Bounds range     [0e+00, 0e+00]\n",
      "  RHS range        [5e+02, 9e+03]\n",
      "Presolve removed 2 rows and 0 columns\n",
      "Presolve time: 0.00s\n",
      "Presolved: 3 rows, 2 columns, 6 nonzeros\n",
      "\n",
      "Iteration    Objective       Primal Inf.    Dual Inf.      Time\n",
      "       0    1.0000000e+05   3.126878e+02   0.000000e+00      0s\n",
      "       1    1.0000000e+05   0.000000e+00   0.000000e+00      0s\n",
      "\n",
      "Solved in 1 iterations and 0.00 seconds (0.00 work units)\n",
      "Optimal objective  1.000000000e+05\n",
      "Optimal objective value: 100000.0\n",
      "Solution values: x=2000.0, y=3500.0\n"
     ]
    }
   ],
   "source": [
    "# Create a new model\n",
    "m = gp.Model(\"Petroleum\")\n",
    "\n",
    "# Create variables\n",
    "x = m.addVar(vtype=gp.GRB.CONTINUOUS, name=\"x\")\n",
    "y = m.addVar(vtype=gp.GRB.CONTINUOUS, name=\"y\")\n",
    "\n",
    "# Set objective function\n",
    "m.setObjective(15*x + 20*y, gp.GRB.MINIMIZE)\n",
    "\n",
    "# Add constraints\n",
    "m.addConstr(0.3*x + 0.4*y >= 2000)\n",
    "m.addConstr(0.4*x + 0.2*y >= 1500)\n",
    "m.addConstr(0.2*x + 0.3*y >= 500)\n",
    "m.addConstr(x <= 9000)\n",
    "m.addConstr(y <= 6000)\n",
    "\n",
    "# flour = 200*x + 100*y\n",
    "#or m.addConstr(flour, GRB.LESS_EQUAL, 5000)\n",
    "\n",
    "# Solve it!\n",
    "m.optimize()\n",
    "\n",
    "print(f\"Optimal objective value: {m.objVal}\")\n",
    "print(f\"Solution values: x={x.X}, y={y.X}\")"
   ]
  }
 ],
 "metadata": {
  "kernelspec": {
   "display_name": "Python 3 (ipykernel)",
   "language": "python",
   "name": "python3"
  },
  "language_info": {
   "codemirror_mode": {
    "name": "ipython",
    "version": 3
   },
   "file_extension": ".py",
   "mimetype": "text/x-python",
   "name": "python",
   "nbconvert_exporter": "python",
   "pygments_lexer": "ipython3",
   "version": "3.11.4"
  }
 },
 "nbformat": 4,
 "nbformat_minor": 5
}
